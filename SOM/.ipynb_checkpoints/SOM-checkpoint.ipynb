{
 "cells": [
  {
   "cell_type": "code",
   "execution_count": 30,
   "metadata": {},
   "outputs": [
    {
     "ename": "SyntaxError",
     "evalue": "invalid syntax (<ipython-input-30-80854d03aacf>, line 17)",
     "output_type": "error",
     "traceback": [
      "\u001b[1;36m  File \u001b[1;32m\"<ipython-input-30-80854d03aacf>\"\u001b[1;36m, line \u001b[1;32m17\u001b[0m\n\u001b[1;33m    def kernel_function(d, sigma)\u001b[0m\n\u001b[1;37m                                 ^\u001b[0m\n\u001b[1;31mSyntaxError\u001b[0m\u001b[1;31m:\u001b[0m invalid syntax\n"
     ]
    }
   ],
   "source": [
    "import numpy as np\n",
    "def get_data(filepath):\n",
    "    x_raw, y_raw = [], []\n",
    "    with open(filepath, 'r', encoding='utf-8') as file:\n",
    "        for line in file:\n",
    "            line = [float(x) for x in line.strip().split(' ')]\n",
    "            x_raw += [line[:-1]]\n",
    "            y_raw += [line[-1]]\n",
    "        \n",
    "        return np.array(x_raw), np.array(y_raw)\n",
    "\n",
    "# distance function\n",
    "def euclidean_distance(x1, x2):\n",
    "    return np.linalg.norm(x1 - x2, ord=2)\n",
    "    \n",
    "def time_constant(epoch_size, constant):\n",
    "    return epoch_size / log(constant)\n",
    "\n",
    "# 計算得勝類神經元 j* 的鄰近區域函數的強度\n",
    "# 高斯型式之鄰近區域函數\n",
    "def gaussian(d, sigma)\n",
    "    # d: 得勝神經元 j* 與 類神經元 j 的側向連結距離\n",
    "    # sigma: 有效寬度\n",
    "    \n",
    "    return np.exp(-1 * d**2 / (2 * sigma))\n",
    "    \n",
    "    \n",
    "def sigma_function(sigma0, n, tau):\n",
    "    # sigma0: 有效寬度初始值\n",
    "    # n: 迭代次數\n",
    "    # tau: 時間常數\n",
    "    return sigma0 * exp(-1 * n / tau)\n",
    "\n",
    "\n"
   ]
  },
  {
   "cell_type": "code",
   "execution_count": 13,
   "metadata": {},
   "outputs": [],
   "source": [
    "class SOM:\n",
    "    def __init__(self, row, col, input_dim):\n",
    "        \n",
    "        self.num = num\n",
    "        self.input_dim = input_dim\n",
    "        self.neuron_map = []\n",
    "        \n",
    "        self.distance_function = None\n",
    "        self.kernel_function = None\n",
    "        self.sigma_function = None # 有效寬度\n",
    "        self.learning_rate_function = None\n",
    "        self.neighborhood_function = None\n",
    "        \n",
    "        \n",
    "    def init_neuron(self, row, col):\n",
    "        for i in range(row):\n",
    "            self.neuron_map.append([Node(self.input_dim) for j in range(col)])\n",
    "        \n",
    "    def train(self, x_train, y_train, epoch, learning_rate, sigma):\n",
    "        \n",
    "        \n",
    "        "
   ]
  },
  {
   "cell_type": "code",
   "execution_count": 12,
   "metadata": {},
   "outputs": [],
   "source": [
    "class Node:\n",
    "    def __init__(self, input_dim):\n",
    "        self.input_dim = input_dim\n",
    "        self.weight = np.random.uniform(-1, 1, input_dim)\n",
    "        \n",
    "    \n",
    "        \n"
   ]
  },
  {
   "cell_type": "code",
   "execution_count": null,
   "metadata": {},
   "outputs": [],
   "source": []
  },
  {
   "cell_type": "code",
   "execution_count": null,
   "metadata": {},
   "outputs": [],
   "source": []
  },
  {
   "cell_type": "code",
   "execution_count": null,
   "metadata": {},
   "outputs": [],
   "source": [
    "x_raw, y_raw = get_data('dataset/2Ccircle1.txt')\n",
    "print(x_raw[0:5])\n",
    "print(y_raw[0:5])"
   ]
  },
  {
   "cell_type": "code",
   "execution_count": 29,
   "metadata": {},
   "outputs": [
    {
     "data": {
      "text/plain": [
       "1.4142135623730951"
      ]
     },
     "execution_count": 29,
     "metadata": {},
     "output_type": "execute_result"
    }
   ],
   "source": [
    "np.linalg.norm([1, -1, 0], ord=2)"
   ]
  },
  {
   "cell_type": "code",
   "execution_count": null,
   "metadata": {},
   "outputs": [],
   "source": []
  }
 ],
 "metadata": {
  "kernelspec": {
   "display_name": "Python 3",
   "language": "python",
   "name": "python3"
  },
  "language_info": {
   "codemirror_mode": {
    "name": "ipython",
    "version": 3
   },
   "file_extension": ".py",
   "mimetype": "text/x-python",
   "name": "python",
   "nbconvert_exporter": "python",
   "pygments_lexer": "ipython3",
   "version": "3.7.0"
  }
 },
 "nbformat": 4,
 "nbformat_minor": 2
}
