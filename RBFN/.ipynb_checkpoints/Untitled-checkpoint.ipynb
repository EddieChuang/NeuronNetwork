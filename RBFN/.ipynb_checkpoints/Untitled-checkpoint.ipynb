{
 "cells": [
  {
   "cell_type": "code",
   "execution_count": 1,
   "metadata": {},
   "outputs": [],
   "source": [
    "import numpy as np\n"
   ]
  },
  {
   "cell_type": "code",
   "execution_count": 12,
   "metadata": {},
   "outputs": [],
   "source": [
    "# util.py\n",
    "\n",
    "import numpy as np\n",
    "import pandas as pd\n",
    "import random, math\n",
    "import matplotlib.pyplot as plt\n",
    "%matplotlib inline\n",
    "\n",
    "\n",
    "# data processing\n",
    "def get_raw_dataset(filepath):    \n",
    "    \n",
    "    rawx, rawy = [], []\n",
    "    with open(filepath, 'r', encoding='utf-8') as file:\n",
    "        for line in file:\n",
    "            line = line.strip().split(' ')\n",
    "            rawx += [line[:-1]]\n",
    "            rawy += [float(line[-1])]\n",
    "        input_dim = len(rawx[0])\n",
    "        nclass = len(np.unique(rawy))\n",
    "        \n",
    "        \n",
    "        \n",
    "    return np.array(rawx).astype(float), np.array(rawy).astype(float), input_dim, nclass\n",
    "    \n",
    "def onehot_encode(rawy, nclass):\n",
    "    \n",
    "    unique = np.unique(rawy)\n",
    "    \n",
    "    index2hot = [np.where(unique == y)[0][0] for y in rawy]\n",
    "    onehoty = np.zeros((rawy.shape[0], nclass), dtype=np.int)    \n",
    "    onehoty[np.arange(rawy.shape[0]), index2hot] = 1\n",
    "    \n",
    "    \n",
    "    decoder = {}\n",
    "    for onehot in np.unique(onehoty, axis=0):\n",
    "        decoder[tuple(onehot)] = unique[np.where(onehot == 1)[0]]\n",
    "    \n",
    "    return onehoty, decoder\n",
    "\n",
    "def kmeans(x_train, k, iteration):\n",
    "    def init_centers():\n",
    "        center_indices = []\n",
    "        while len(center_indices) < k:\n",
    "            index = random.randint(0, len(x_train) - 1)\n",
    "            center_indices += [index] if index not in center_indices else []\n",
    "        return np.array(x_train[center_indices])\n",
    "    \n",
    "    def get_centers(clusters):\n",
    "        return np.array([np.sum(cluster, axis=0) / len(cluster) for i, cluster in clusters.items()]).reshape(k, len(x_train[0]))\n",
    "\n",
    "    def get_cluster(x):\n",
    "        distances = [np.linalg.norm(xc - x, ord=2) for xc in centers]\n",
    "        \n",
    "        return np.array(distances).argmin()\n",
    "    \n",
    "    def get_clusters_radius(centers, clusters):\n",
    "        radius = []\n",
    "        for center, i in zip(centers, clusters):\n",
    "            radius.append(np.max(np.linalg.norm(clusters[i] - center, ord=2, axis=1)))\n",
    "        return radius\n",
    "    \n",
    "    centers = init_centers()\n",
    "    \n",
    "    for i in range(iteration):\n",
    "        clusters = { i: [] for i in range(k)}\n",
    "        for x in x_train:\n",
    "            clusters[get_cluster(x)].append(list(x))\n",
    "        \n",
    "        new_centers = get_centers(clusters) \n",
    "        if np.equal(new_centers, centers).all():\n",
    "            break\n",
    "        centers = new_centers\n",
    "    \n",
    "    return centers, get_clusters_radius(centers, clusters)\n",
    "\n",
    "def plot_dataset(x, y, centers, radius):\n",
    "    \n",
    "    colors = ['b', 'g', 'r', 'c', 'm', 'y', 'k', 'w']\n",
    "    x = pd.DataFrame(x)\n",
    "    classes = np.unique(y)\n",
    "    \n",
    "    fig, ax = plt.subplots()\n",
    "    for i, c in enumerate(classes):\n",
    "        plt.scatter(x[y == c][0], x[y == c][1], label='Class {}'.format(c), c=colors[i])\n",
    "        \n",
    "    \n",
    "    for center, r in zip(centers, radius):\n",
    "        plt.scatter(center[0], center[1], c='y')\n",
    "        circle = plt.Circle((center), r, color='y', fill=False)\n",
    "        ax.add_artist(circle)\n",
    "\n",
    "    \n",
    "    plt.show()\n",
    "    \n",
    "def sigmoid(x):\n",
    "    return 1 / (1 + np.exp(-x))\n",
    "\n",
    "def shuffle(x, y):\n",
    "    index = np.arange(len(x))\n",
    "    np.random.shuffle(index)\n",
    "    return x[index], y[index]\n",
    "\n",
    "def split(x, y, percent=0.7):\n",
    "    train_len = math.ceil(len(x) * percent)\n",
    "    return x[:train_len], y[:train_len], x[train_len:], y[train_len:]\n",
    "    \n"
   ]
  },
  {
   "cell_type": "code",
   "execution_count": 13,
   "metadata": {},
   "outputs": [],
   "source": [
    "class Node:\n",
    "    def __init__(self, input_nodes=[], output_nodes=[], config=None, neuron_type='hidden', activation_func=sigmoid):\n",
    "        \n",
    "        isoutput, ishidden, isroot = neuron_type=='output', neuron_type=='hidden', neuron_type=='root'\n",
    "        \n",
    "        self.value = 0\n",
    "        self.input_nodes = input_nodes\n",
    "        self.output_nodes = output_nodes\n",
    "        self.weight = np.random.randn(config['nhidden']) if isoutput else None\n",
    "        self.center = config['center'] if ishidden else None\n",
    "        self.width  = config['width']  if ishidden else None\n",
    "        self.activation_function = activation_func\n",
    "        \n",
    "        self.isoutput = isoutput\n",
    "        self.ishidden = ishidden\n",
    "        self.isroot = isroot\n",
    "        self.neuron_type = neuron_type\n",
    "    \n",
    "    def compute(self, x):\n",
    "        if self.isroot:\n",
    "            return\n",
    "        if self.ishidden:\n",
    "            input_vector = x\n",
    "        elif self.isoutput:\n",
    "            input_vector = np.array([node.value for node in self.input_nodes])\n",
    "\n",
    "        self.value = self.output_function()(input_vector)\n",
    "        \n",
    "    def update(self, error, learning_rate):\n",
    "        self.weight += learning_rate * error * np.array([input_node.value for input_node in self.input_nodes])\n",
    "    \n",
    "    def output_function(self):\n",
    "        \n",
    "        def basic_function(input_vector):\n",
    "            # 高斯基底函數\n",
    "            euclidean_distance = np.linalg.norm(input_vector - self.center, ord=2)\n",
    "            return np.exp(-1 * (euclidean_distance / (2 * self.width**2)))\n",
    "        \n",
    "        def output_value(input_vector):\n",
    "            # 計算輸出層的值\n",
    "            return self.activation_function(np.dot(self.weight, input_vector))\n",
    "\n",
    "\n",
    "        if self.ishidden:\n",
    "            return basic_function\n",
    "        elif self.isoutput:\n",
    "            return output_value\n",
    "    "
   ]
  },
  {
   "cell_type": "code",
   "execution_count": 14,
   "metadata": {},
   "outputs": [],
   "source": [
    "class RBFN:\n",
    "    def __init__(self, nclass, neurons_config):\n",
    "        \n",
    "        self.nclass = nclass\n",
    "        self.input = []\n",
    "        self.output_layer = [Node(config={'nhidden': len(neurons_config)}, neuron_type='output') for i in range(nclass)]\n",
    "        self.sudo_root = Node(input_nodes=self.output_layer, neuron_type='root')\n",
    "\n",
    "        self.init_neuron(neurons_config)\n",
    "    \n",
    "    def init_neuron(self, neurons_config):\n",
    "        \n",
    "        hidden_nodes = []\n",
    "        for config in neurons_config:\n",
    "            node = Node(output_nodes=[self.output_layer], config=config)\n",
    "            hidden_nodes.append(node)\n",
    "        for output_node in self.output_layer:\n",
    "            output_node.input_nodes = hidden_nodes\n",
    "    \n",
    "    def train(self, x_train, y_train, x_test, y_test, epoch_size, learning_rate):\n",
    "        \n",
    "        for i in range(epoch_size):\n",
    "            for x, y in zip(x_train, y_train):\n",
    "                self.compute(x)\n",
    "                self.update(y, learning_rate)\n",
    "            \n",
    "            accuracy = self.evaluate(x_test, y_test)\n",
    "            \n",
    "            if i % 10 == 0:\n",
    "                print('Epoch {}: {}'.format(i, accuracy))\n",
    "    \n",
    "    def compute(self, x):\n",
    "        def DFS(node):\n",
    "            for input_node in node.input_nodes:\n",
    "                DFS(input_node)\n",
    "            node.compute(x)\n",
    "        DFS(self.sudo_root)   \n",
    "     \n",
    "    def update(self, y, learning_rate):\n",
    "        def LMS():\n",
    "            for i, node in enumerate(self.output_layer):   \n",
    "                error = y[i] - node.value\n",
    "                node.update(error, learning_rate)\n",
    "        LMS()\n",
    "        \n",
    "    def predict(self, x_test):\n",
    "        def to_onehot(predictions):\n",
    "            shape = np.array(predictions).shape\n",
    "            onehot = np.zeros(shape)\n",
    "            index2hot = np.argmax(predictions, axis=1)\n",
    "            onehot[np.arange(shape[0]), index2hot] = 1\n",
    "            \n",
    "            return onehot\n",
    "        \n",
    "        predictions = []\n",
    "        for x in x_test:\n",
    "            self.compute(x)\n",
    "            predictions += [[output_node.value for output_node in self.output_layer]]\n",
    "        \n",
    "        return to_onehot(predictions)\n",
    "    \n",
    "    def evaluate(self, x_test, y_test):\n",
    "        \n",
    "        predictions = self.predict(x_test)\n",
    "        correct_count = np.sum(np.equal(np.sum(np.equal(predictions, y_test), axis=1), np.array([self.nclass])))\n",
    "        \n",
    "        return correct_count / len(y_test)\n",
    "        \n",
    "        \n",
    "        \n",
    "        \n",
    "        "
   ]
  },
  {
   "cell_type": "code",
   "execution_count": 30,
   "metadata": {},
   "outputs": [
    {
     "name": "stdout",
     "output_type": "stream",
     "text": [
      "Dataset size: 200\n",
      "Input dimensions: 10\n",
      "Number of class: 4\n"
     ]
    }
   ],
   "source": [
    "rawx, rawy, input_dim, nclass = get_raw_dataset('dataset/perceptron1.txt')\n",
    "print('Dataset size: {}'.format(len(rawx)))\n",
    "print('Input dimensions: {}'.format(input_dim))\n",
    "print('Number of class: {}'.format(nclass))"
   ]
  },
  {
   "cell_type": "code",
   "execution_count": 31,
   "metadata": {},
   "outputs": [],
   "source": [
    "rawx, rawy = shuffle(rawx, rawy)"
   ]
  },
  {
   "cell_type": "code",
   "execution_count": 32,
   "metadata": {
    "scrolled": true
   },
   "outputs": [],
   "source": [
    "onehoty, onehot_decoder = onehot_encode(rawy, nclass)"
   ]
  },
  {
   "cell_type": "code",
   "execution_count": 33,
   "metadata": {},
   "outputs": [],
   "source": [
    "x_train, y_train, x_test, y_test = split(rawx, onehoty, 0.7)"
   ]
  },
  {
   "cell_type": "code",
   "execution_count": 34,
   "metadata": {},
   "outputs": [
    {
     "data": {
      "image/png": "[encoded data removed]",
      "text/plain": [
       "<Figure size 432x288 with 1 Axes>"
      ]
     },
     "metadata": {
      "needs_background": "light"
     },
     "output_type": "display_data"
    }
   ],
   "source": [
    "centers, radius = kmeans(rawx, 5, 1000)\n",
    "plot_dataset(rawx, rawy, centers, radius)"
   ]
  },
  {
   "cell_type": "code",
   "execution_count": 27,
   "metadata": {},
   "outputs": [],
   "source": [
    "epoch_size = 200\n",
    "learning_rate = 0.1\n",
    "neurons_config = []\n",
    "for center, r in zip(centers, radius):\n",
    "    neurons_config.append({'center': center, 'width': r})\n"
   ]
  },
  {
   "cell_type": "code",
   "execution_count": 28,
   "metadata": {},
   "outputs": [],
   "source": [
    "model = RBFN(nclass, neurons_config)"
   ]
  },
  {
   "cell_type": "code",
   "execution_count": 29,
   "metadata": {
    "scrolled": false
   },
   "outputs": [
    {
     "name": "stdout",
     "output_type": "stream",
     "text": [
      "Epoch 0: 0.5555555555555556\n",
      "Epoch 10: 0.9166666666666666\n",
      "Epoch 20: 0.9305555555555556\n",
      "Epoch 30: 0.9444444444444444\n",
      "Epoch 40: 0.9444444444444444\n",
      "Epoch 50: 0.9583333333333334\n",
      "Epoch 60: 0.9583333333333334\n",
      "Epoch 70: 0.9583333333333334\n",
      "Epoch 80: 0.9722222222222222\n",
      "Epoch 90: 0.9722222222222222\n",
      "Epoch 100: 0.9861111111111112\n",
      "Epoch 110: 0.9861111111111112\n",
      "Epoch 120: 0.9861111111111112\n",
      "Epoch 130: 0.9722222222222222\n",
      "Epoch 140: 0.9722222222222222\n",
      "Epoch 150: 0.9722222222222222\n",
      "Epoch 160: 0.9722222222222222\n",
      "Epoch 170: 0.9722222222222222\n",
      "Epoch 180: 0.9722222222222222\n",
      "Epoch 190: 0.9722222222222222\n"
     ]
    }
   ],
   "source": [
    "model.train(x_train, y_train, x_test, y_test, epoch_size, learning_rate)"
   ]
  },
  {
   "cell_type": "code",
   "execution_count": 539,
   "metadata": {},
   "outputs": [],
   "source": [
    "predictions = model.predict(x_test)"
   ]
  },
  {
   "cell_type": "code",
   "execution_count": 540,
   "metadata": {},
   "outputs": [
    {
     "data": {
      "text/plain": [
       "False"
      ]
     },
     "execution_count": 540,
     "metadata": {},
     "output_type": "execute_result"
    }
   ],
   "source": []
  },
  {
   "cell_type": "code",
   "execution_count": 541,
   "metadata": {},
   "outputs": [
    {
     "data": {
      "text/plain": [
       "array([[0, 1],\n",
       "       [1, 0],\n",
       "       [0, 1],\n",
       "       [1, 0],\n",
       "       [0, 1],\n",
       "       [0, 1],\n",
       "       [0, 1],\n",
       "       [1, 0],\n",
       "       [1, 0],\n",
       "       [0, 1],\n",
       "       [0, 1],\n",
       "       [1, 0],\n",
       "       [0, 1],\n",
       "       [1, 0],\n",
       "       [0, 1],\n",
       "       [1, 0],\n",
       "       [1, 0],\n",
       "       [1, 0],\n",
       "       [0, 1],\n",
       "       [1, 0],\n",
       "       [1, 0],\n",
       "       [1, 0],\n",
       "       [0, 1],\n",
       "       [0, 1],\n",
       "       [0, 1],\n",
       "       [0, 1],\n",
       "       [1, 0],\n",
       "       [0, 1],\n",
       "       [1, 0],\n",
       "       [0, 1],\n",
       "       [1, 0],\n",
       "       [0, 1],\n",
       "       [1, 0],\n",
       "       [0, 1],\n",
       "       [0, 1],\n",
       "       [0, 1],\n",
       "       [0, 1],\n",
       "       [0, 1],\n",
       "       [1, 0],\n",
       "       [0, 1],\n",
       "       [0, 1],\n",
       "       [1, 0],\n",
       "       [0, 1],\n",
       "       [0, 1],\n",
       "       [0, 1],\n",
       "       [1, 0],\n",
       "       [1, 0],\n",
       "       [1, 0],\n",
       "       [1, 0],\n",
       "       [0, 1],\n",
       "       [0, 1],\n",
       "       [0, 1],\n",
       "       [0, 1],\n",
       "       [1, 0],\n",
       "       [0, 1],\n",
       "       [1, 0],\n",
       "       [0, 1],\n",
       "       [1, 0],\n",
       "       [1, 0],\n",
       "       [1, 0],\n",
       "       [0, 1],\n",
       "       [0, 1],\n",
       "       [1, 0],\n",
       "       [1, 0],\n",
       "       [1, 0],\n",
       "       [0, 1],\n",
       "       [0, 1],\n",
       "       [0, 1],\n",
       "       [1, 0],\n",
       "       [1, 0],\n",
       "       [0, 1],\n",
       "       [0, 1],\n",
       "       [0, 1],\n",
       "       [0, 1],\n",
       "       [1, 0],\n",
       "       [1, 0],\n",
       "       [1, 0],\n",
       "       [0, 1],\n",
       "       [0, 1],\n",
       "       [1, 0],\n",
       "       [0, 1],\n",
       "       [1, 0],\n",
       "       [1, 0],\n",
       "       [0, 1],\n",
       "       [1, 0],\n",
       "       [0, 1],\n",
       "       [0, 1],\n",
       "       [1, 0],\n",
       "       [0, 1],\n",
       "       [0, 1],\n",
       "       [0, 1],\n",
       "       [1, 0],\n",
       "       [1, 0],\n",
       "       [1, 0],\n",
       "       [1, 0],\n",
       "       [0, 1],\n",
       "       [0, 1],\n",
       "       [1, 0],\n",
       "       [0, 1],\n",
       "       [1, 0],\n",
       "       [0, 1],\n",
       "       [1, 0],\n",
       "       [1, 0],\n",
       "       [1, 0],\n",
       "       [1, 0],\n",
       "       [1, 0],\n",
       "       [0, 1],\n",
       "       [0, 1],\n",
       "       [1, 0],\n",
       "       [0, 1],\n",
       "       [0, 1]])"
      ]
     },
     "execution_count": 541,
     "metadata": {},
     "output_type": "execute_result"
    }
   ],
   "source": [
    "y_test"
   ]
  },
  {
   "cell_type": "code",
   "execution_count": 23,
   "metadata": {},
   "outputs": [
    {
     "data": {
      "text/plain": [
       "[42.34563957481337,\n",
       " 23.53913398091418,\n",
       " 25.49170133211113,\n",
       " 319.16409157947277,\n",
       " 123.1516267389511,\n",
       " 87.24417827721014,\n",
       " 36.349984212140875,\n",
       " 47.92850556362183,\n",
       " 73.76769913647088,\n",
       " 21.00243482908589]"
      ]
     },
     "execution_count": 23,
     "metadata": {},
     "output_type": "execute_result"
    }
   ],
   "source": [
    "radius"
   ]
  },
  {
   "cell_type": "code",
   "execution_count": 368,
   "metadata": {},
   "outputs": [
    {
     "name": "stdout",
     "output_type": "stream",
     "text": [
      "[1, 1, 0, 1, 1, 0, 0, 0, 0, 1, 0, 0, 0, 0, 1, 0, 1, 1, 1, 0, 0, 1, 1, 0, 0, 0, 1, 1, 0, 1, 1, 0, 0, 1, 0, 1, 1, 0, 1, 1, 1, 0, 1, 0, 0, 1, 0, 1, 1, 0, 0, 0, 1, 0, 1, 0, 0, 0, 1, 1, 1, 1, 0, 0, 0, 1, 0, 0, 0, 0, 0, 0, 1, 0, 0, 0, 0, 1, 0, 1, 0, 1, 1, 0, 0, 1, 1, 0, 0, 0, 1, 1, 1, 0, 0, 0, 1, 0, 1, 0, 0, 1, 0, 1, 0, 1, 0, 1, 0, 1, 0, 1, 0, 0, 1, 1, 1, 0, 1, 0, 0, 1, 1, 0, 0, 0, 1, 1, 1, 1, 1, 0, 0, 0, 1, 1, 1, 1, 0, 1, 0, 0, 0, 0, 0, 1, 0, 0, 1, 0, 0, 0, 0, 0, 0, 1, 1, 1, 0, 1, 0, 1, 1, 0, 1, 1, 0, 0, 1, 0, 1, 1, 0, 0, 1, 0, 0, 0, 0, 0, 1, 1, 1, 0, 0, 1, 0, 0, 1, 1, 1, 0, 0, 0, 0, 0, 0, 1, 0, 0, 0, 0, 1, 0, 0, 1, 1, 0, 0, 1, 0, 1, 1, 0, 0, 1, 0, 1, 0, 1, 1, 1, 1, 1, 0, 1, 1, 0, 1, 0, 1, 1, 1, 1, 0, 0, 0, 1, 0, 1, 1, 0, 1, 0, 1, 0, 0, 1, 0, 1, 0, 0, 0, 1, 0, 0, 1, 1, 0, 0, 0, 1, 0, 0, 0, 1, 1, 1, 0, 0, 0, 1, 0, 0, 1, 0, 1, 1, 0, 1, 0, 0, 1, 0, 0, 1, 1, 1, 1, 0, 0, 1, 1, 1, 1, 1, 1, 0, 1, 1, 1, 0, 0, 0, 1, 1, 0, 1, 0, 1, 1, 1, 1, 0, 1, 0, 1, 0, 0, 0, 1, 0, 0, 0, 0, 0, 1, 1, 1, 1, 1, 1, 1, 0, 0, 0, 0, 1, 1, 0, 1, 0, 1, 1, 0, 0, 0, 0, 0, 0, 1, 1, 0, 0, 0, 0, 0, 1, 0, 1, 0, 0, 1, 1, 1, 0, 0, 0, 1, 0, 0, 1]\n"
     ]
    }
   ],
   "source": [
    "unique = np.unique(rawy)\n",
    "index2hot = [np.where(unique == y)[0][0] for y in rawy]\n",
    "print(index2hot)"
   ]
  },
  {
   "cell_type": "code",
   "execution_count": 369,
   "metadata": {},
   "outputs": [
    {
     "data": {
      "text/plain": [
       "(array([1], dtype=int64),)"
      ]
     },
     "execution_count": 369,
     "metadata": {},
     "output_type": "execute_result"
    }
   ],
   "source": [
    "np.where(unique == rawy[0])"
   ]
  },
  {
   "cell_type": "code",
   "execution_count": 370,
   "metadata": {},
   "outputs": [
    {
     "data": {
      "text/plain": [
       "array([2., 2., 1., 2., 2., 1., 1., 1., 1., 2., 1., 1., 1., 1., 2., 1., 2.,\n",
       "       2., 2., 1., 1., 2., 2., 1., 1., 1., 2., 2., 1., 2., 2., 1., 1., 2.,\n",
       "       1., 2., 2., 1., 2., 2., 2., 1., 2., 1., 1., 2., 1., 2., 2., 1., 1.,\n",
       "       1., 2., 1., 2., 1., 1., 1., 2., 2., 2., 2., 1., 1., 1., 2., 1., 1.,\n",
       "       1., 1., 1., 1., 2., 1., 1., 1., 1., 2., 1., 2., 1., 2., 2., 1., 1.,\n",
       "       2., 2., 1., 1., 1., 2., 2., 2., 1., 1., 1., 2., 1., 2., 1., 1., 2.,\n",
       "       1., 2., 1., 2., 1., 2., 1., 2., 1., 2., 1., 1., 2., 2., 2., 1., 2.,\n",
       "       1., 1., 2., 2., 1., 1., 1., 2., 2., 2., 2., 2., 1., 1., 1., 2., 2.,\n",
       "       2., 2., 1., 2., 1., 1., 1., 1., 1., 2., 1., 1., 2., 1., 1., 1., 1.,\n",
       "       1., 1., 2., 2., 2., 1., 2., 1., 2., 2., 1., 2., 2., 1., 1., 2., 1.,\n",
       "       2., 2., 1., 1., 2., 1., 1., 1., 1., 1., 2., 2., 2., 1., 1., 2., 1.,\n",
       "       1., 2., 2., 2., 1., 1., 1., 1., 1., 1., 2., 1., 1., 1., 1., 2., 1.,\n",
       "       1., 2., 2., 1., 1., 2., 1., 2., 2., 1., 1., 2., 1., 2., 1., 2., 2.,\n",
       "       2., 2., 2., 1., 2., 2., 1., 2., 1., 2., 2., 2., 2., 1., 1., 1., 2.,\n",
       "       1., 2., 2., 1., 2., 1., 2., 1., 1., 2., 1., 2., 1., 1., 1., 2., 1.,\n",
       "       1., 2., 2., 1., 1., 1., 2., 1., 1., 1., 2., 2., 2., 1., 1., 1., 2.,\n",
       "       1., 1., 2., 1., 2., 2., 1., 2., 1., 1., 2., 1., 1., 2., 2., 2., 2.,\n",
       "       1., 1., 2., 2., 2., 2., 2., 2., 1., 2., 2., 2., 1., 1., 1., 2., 2.,\n",
       "       1., 2., 1., 2., 2., 2., 2., 1., 2., 1., 2., 1., 1., 1., 2., 1., 1.,\n",
       "       1., 1., 1., 2., 2., 2., 2., 2., 2., 2., 1., 1., 1., 1., 2., 2., 1.,\n",
       "       2., 1., 2., 2., 1., 1., 1., 1., 1., 1., 2., 2., 1., 1., 1., 1., 1.,\n",
       "       2., 1., 2., 1., 1., 2., 2., 2., 1., 1., 1., 2., 1., 1., 2.])"
      ]
     },
     "execution_count": 370,
     "metadata": {},
     "output_type": "execute_result"
    }
   ],
   "source": [
    "rawy"
   ]
  },
  {
   "cell_type": "code",
   "execution_count": 651,
   "metadata": {},
   "outputs": [
    {
     "data": {
      "text/plain": [
       "array([[ 7.66666667, 11.        ,  5.66666667,  5.66666667,  6.66666667,\n",
       "        10.33333333,  2.33333333,  3.        ],\n",
       "       [ 7.5       ,  7.25      ,  7.25      ,  6.5       ,  5.25      ,\n",
       "         6.        ,  4.5       ,  5.        ],\n",
       "       [ 7.        ,  7.33333333,  6.66666667,  7.33333333,  9.        ,\n",
       "         8.66666667,  5.        ,  4.66666667],\n",
       "       [ 7.        ,  8.5       ,  5.        ,  3.        ,  6.        ,\n",
       "         9.        ,  1.        ,  1.        ],\n",
       "       [ 5.66666667,  6.66666667,  7.        ,  6.33333333,  9.        ,\n",
       "         9.33333333,  9.33333333,  7.66666667],\n",
       "       [ 6.75      ,  6.25      ,  5.75      ,  5.5       ,  3.25      ,\n",
       "         3.        ,  4.75      ,  5.        ],\n",
       "       [ 9.        ,  7.71428571,  5.42857143,  5.28571429,  8.57142857,\n",
       "         9.28571429,  4.14285714, 11.71428571],\n",
       "       [ 8.5       ,  7.5       ,  7.        ,  6.        ,  7.5       ,\n",
       "         6.        ,  4.        ,  3.5       ],\n",
       "       [ 5.5       ,  6.66666667,  6.16666667,  7.33333333,  7.83333333,\n",
       "         7.16666667,  2.        ,  2.16666667],\n",
       "       [ 3.        ,  6.        , 11.        ,  6.        ,  8.5       ,\n",
       "        11.        ,  6.        ,  9.5       ],\n",
       "       [ 7.        ,  6.5       ,  7.        ,  6.        ,  5.5       ,\n",
       "         5.5       ,  3.5       ,  2.5       ],\n",
       "       [ 6.66666667,  8.        ,  5.66666667,  4.66666667,  5.33333333,\n",
       "         6.        ,  2.        ,  3.        ],\n",
       "       [ 6.        , 10.        ,  6.        , 10.        ,  8.        ,\n",
       "         8.        , 13.        ,  4.        ],\n",
       "       [ 8.        , 10.        ,  7.        , 10.        ,  9.        ,\n",
       "         8.        , 11.        ,  4.        ],\n",
       "       [ 6.5       , 12.        ,  9.        ,  5.        ,  8.5       ,\n",
       "        11.        ,  8.5       ,  2.        ]])"
      ]
     },
     "execution_count": 651,
     "metadata": {},
     "output_type": "execute_result"
    }
   ],
   "source": [
    "centers"
   ]
  },
  {
   "cell_type": "code",
   "execution_count": 312,
   "metadata": {},
   "outputs": [
    {
     "data": {
      "text/plain": [
       "(111, 2)"
      ]
     },
     "execution_count": 312,
     "metadata": {},
     "output_type": "execute_result"
    }
   ],
   "source": [
    "x_test.shape"
   ]
  },
  {
   "cell_type": "code",
   "execution_count": 313,
   "metadata": {},
   "outputs": [
    {
     "data": {
      "text/plain": [
       "(111, 2)"
      ]
     },
     "execution_count": 313,
     "metadata": {},
     "output_type": "execute_result"
    }
   ],
   "source": [
    "y_test.shape"
   ]
  },
  {
   "cell_type": "code",
   "execution_count": null,
   "metadata": {},
   "outputs": [],
   "source": []
  }
 ],
 "metadata": {
  "kernelspec": {
   "display_name": "Python 3",
   "language": "python",
   "name": "python3"
  },
  "language_info": {
   "codemirror_mode": {
    "name": "ipython",
    "version": 3
   },
   "file_extension": ".py",
   "mimetype": "text/x-python",
   "name": "python",
   "nbconvert_exporter": "python",
   "pygments_lexer": "ipython3",
   "version": "3.7.0"
  }
 },
 "nbformat": 4,
 "nbformat_minor": 2
}
